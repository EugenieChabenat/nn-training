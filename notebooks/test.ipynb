{
 "cells": [
  {
   "cell_type": "code",
   "execution_count": 1,
   "id": "70e90eae-d0d3-449b-8168-c632bc3dfa37",
   "metadata": {},
   "outputs": [],
   "source": [
    "%load_ext autoreload\n",
    "%autoreload 2"
   ]
  },
  {
   "cell_type": "code",
   "execution_count": 2,
   "id": "2306afd3-923c-46a1-910b-400e1b555229",
   "metadata": {},
   "outputs": [],
   "source": [
    "from nn_training import config"
   ]
  },
  {
   "cell_type": "code",
   "execution_count": 3,
   "id": "9011a0fd-9b41-4289-84e8-056f16d31971",
   "metadata": {},
   "outputs": [
    {
     "data": {
      "text/plain": [
       "[('root', '/home/hc3190/issa/nn-training'),\n",
       " ('datasets', '/home/hc3190/datasets'),\n",
       " ('checkpoints', '/home/hc3190/issa/nn-training/checkpoints'),\n",
       " ('tensorboard', '/home/hc3190/issa/nn-training/tensorboard'),\n",
       " ('imagenet', '/home/hc3190/datasets/imagenet')]"
      ]
     },
     "execution_count": 3,
     "metadata": {},
     "output_type": "execute_result"
    }
   ],
   "source": [
    "list(config['paths'].items())"
   ]
  },
  {
   "cell_type": "code",
   "execution_count": null,
   "id": "0503438d-a41d-4905-8a25-c568a79f3c45",
   "metadata": {},
   "outputs": [],
   "source": []
  }
 ],
 "metadata": {
  "kernelspec": {
   "display_name": "Python [conda env:.conda-nn_training]",
   "language": "python",
   "name": "conda-env-.conda-nn_training-py"
  },
  "language_info": {
   "codemirror_mode": {
    "name": "ipython",
    "version": 3
   },
   "file_extension": ".py",
   "mimetype": "text/x-python",
   "name": "python",
   "nbconvert_exporter": "python",
   "pygments_lexer": "ipython3",
   "version": "3.9.12"
  }
 },
 "nbformat": 4,
 "nbformat_minor": 5
}
